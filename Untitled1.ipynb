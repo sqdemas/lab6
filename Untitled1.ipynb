{
 "cells": [
  {
   "cell_type": "code",
   "execution_count": 1,
   "id": "dff97bae-0cda-45fe-9d0f-f1927f8db073",
   "metadata": {},
   "outputs": [
    {
     "name": "stdin",
     "output_type": "stream",
     "text": [
      "Enter the professor's name:  Jaydan\n",
      "What subject does Jaydan teach?  Lab\n"
     ]
    },
    {
     "name": "stdout",
     "output_type": "stream",
     "text": [
      "Jaydan is very smart and an excellent Lab professor!\n"
     ]
    }
   ],
   "source": [
    "\n",
    "professor_name = input(\"Enter the professor's name: \")\n",
    "subject = input(f\"What subject does {professor_name} teach? \")\n",
    "\n",
    "print(f\"{professor_name} is very smart and an excellent {subject} professor!\")\n"
   ]
  },
  {
   "cell_type": "code",
   "execution_count": null,
   "id": "7c012656-8213-4cc1-a331-329730fe171b",
   "metadata": {},
   "outputs": [],
   "source": []
  }
 ],
 "metadata": {
  "kernelspec": {
   "display_name": "Python 3 (ipykernel)",
   "language": "python",
   "name": "python3"
  },
  "language_info": {
   "codemirror_mode": {
    "name": "ipython",
    "version": 3
   },
   "file_extension": ".py",
   "mimetype": "text/x-python",
   "name": "python",
   "nbconvert_exporter": "python",
   "pygments_lexer": "ipython3",
   "version": "3.11.5"
  }
 },
 "nbformat": 4,
 "nbformat_minor": 5
}
